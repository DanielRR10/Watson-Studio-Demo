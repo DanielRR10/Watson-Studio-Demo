{
    "cells": [
        {
            "cell_type": "code",
            "execution_count": 1,
            "metadata": {},
            "outputs": [],
            "source": "import pandas as pd"
        },
        {
            "cell_type": "code",
            "execution_count": 2,
            "metadata": {},
            "outputs": [
                {
                    "data": {
                        "text/html": "<div>\n<style scoped>\n    .dataframe tbody tr th:only-of-type {\n        vertical-align: middle;\n    }\n\n    .dataframe tbody tr th {\n        vertical-align: top;\n    }\n\n    .dataframe thead th {\n        text-align: right;\n    }\n</style>\n<table border=\"1\" class=\"dataframe\">\n  <thead>\n    <tr style=\"text-align: right;\">\n      <th></th>\n      <th>Name</th>\n      <th>Age</th>\n    </tr>\n  </thead>\n  <tbody>\n    <tr>\n      <th>0</th>\n      <td>tom</td>\n      <td>10</td>\n    </tr>\n    <tr>\n      <th>1</th>\n      <td>nick</td>\n      <td>15</td>\n    </tr>\n    <tr>\n      <th>2</th>\n      <td>juli</td>\n      <td>14</td>\n    </tr>\n  </tbody>\n</table>\n</div>",
                        "text/plain": "   Name  Age\n0   tom   10\n1  nick   15\n2  juli   14"
                    },
                    "execution_count": 2,
                    "metadata": {},
                    "output_type": "execute_result"
                }
            ],
            "source": "# Import pandas library\nimport pandas as pd\n  \n# initialize list of lists\ndata = [['tom', 10], ['nick', 15], ['juli', 14]]\n  \n# Create the pandas DataFrame\ndf = pd.DataFrame(data, columns=['Name', 'Age'])\n  \n# print dataframe.\ndf"
        },
        {
            "cell_type": "code",
            "execution_count": 6,
            "metadata": {},
            "outputs": [
                {
                    "data": {
                        "text/html": "<div>\n<style scoped>\n    .dataframe tbody tr th:only-of-type {\n        vertical-align: middle;\n    }\n\n    .dataframe tbody tr th {\n        vertical-align: top;\n    }\n\n    .dataframe thead th {\n        text-align: right;\n    }\n</style>\n<table border=\"1\" class=\"dataframe\">\n  <thead>\n    <tr style=\"text-align: right;\">\n      <th></th>\n      <th>Age</th>\n    </tr>\n  </thead>\n  <tbody>\n    <tr>\n      <th>count</th>\n      <td>3.000000</td>\n    </tr>\n    <tr>\n      <th>mean</th>\n      <td>13.000000</td>\n    </tr>\n    <tr>\n      <th>std</th>\n      <td>2.645751</td>\n    </tr>\n    <tr>\n      <th>min</th>\n      <td>10.000000</td>\n    </tr>\n    <tr>\n      <th>25%</th>\n      <td>12.000000</td>\n    </tr>\n    <tr>\n      <th>50%</th>\n      <td>14.000000</td>\n    </tr>\n    <tr>\n      <th>75%</th>\n      <td>14.500000</td>\n    </tr>\n    <tr>\n      <th>max</th>\n      <td>15.000000</td>\n    </tr>\n  </tbody>\n</table>\n</div>",
                        "text/plain": "             Age\ncount   3.000000\nmean   13.000000\nstd     2.645751\nmin    10.000000\n25%    12.000000\n50%    14.000000\n75%    14.500000\nmax    15.000000"
                    },
                    "execution_count": 6,
                    "metadata": {},
                    "output_type": "execute_result"
                }
            ],
            "source": "df.describe()"
        },
        {
            "cell_type": "code",
            "execution_count": null,
            "metadata": {},
            "outputs": [],
            "source": ""
        }
    ],
    "metadata": {
        "kernelspec": {
            "display_name": "Python 3.9",
            "language": "python",
            "name": "python3"
        },
        "language_info": {
            "codemirror_mode": {
                "name": "ipython",
                "version": 3
            },
            "file_extension": ".py",
            "mimetype": "text/x-python",
            "name": "python",
            "nbconvert_exporter": "python",
            "pygments_lexer": "ipython3",
            "version": "3.9.12"
        }
    },
    "nbformat": 4,
    "nbformat_minor": 1
}